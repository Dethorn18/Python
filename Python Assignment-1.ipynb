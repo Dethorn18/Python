{
 "cells": [
  {
   "cell_type": "markdown",
   "id": "c28f253c-939b-49ad-aaf4-770ed85d0ef3",
   "metadata": {},
   "source": [
    "Q1. Write all the conventions being followed while declaring a variable."
   ]
  },
  {
   "cell_type": "markdown",
   "id": "7180dff1-9f87-4c4f-851c-c1d30511d3fb",
   "metadata": {},
   "source": [
    "The conventions commonly followed when declaring variables in Python:\n",
    "1. Descriptive Names\n",
    "2. Snake Case(e.g.my_variable_name)\n",
    "3. Start with a Letter or Underscore\n",
    "4. Avoid Reserved Keywords:For example, if, else, while, for, class, def, etc.\n",
    "5. Be Explicit: Choose descriptive names instead of short or cryptic names. Code readability is essential in Python.\n",
    "6. Consistency: Be consistent with variable naming conventions throughout your codebase.\n",
    "7. Avoid Single-Character Names: Unless used as loop counters or in very specific contexts, avoid single-character variable names.\n",
    "8. Use Nouns: Variables should typically represent objects or values, so use nouns for their names.\n",
    "9. Use Constants in UPPERCASE: If you want to define constants, use uppercase letters with underscores (e.g., PI, MAX_LENGTH).\n",
    "10. Avoid Prefixing with Type: Unlike some languages, you generally don't need to prefix variable names with their data type in Python (e.g., int_count)."
   ]
  },
  {
   "cell_type": "markdown",
   "id": "4aa65814-85f9-48b4-8b52-5392bf4a8ad6",
   "metadata": {},
   "source": [
    "Q2. What will happen if we declare a restricted keyword as a variable?"
   ]
  },
  {
   "cell_type": "markdown",
   "id": "7f72253a-d916-4cc9-b7bd-49804e977618",
   "metadata": {},
   "source": [
    "If you attempt to declare a restricted keyword (also known as a reserved word) as a variable, it will typically result in parsing error. Restricted keywords are words that have a special meaning or purpose in the language, and they are reserved for specific uses like defining language constructs, functions, or statements. For Eg:-"
   ]
  },
  {
   "cell_type": "code",
   "execution_count": 2,
   "id": "7ec905c4-5e29-431d-bb82-2bd360b52560",
   "metadata": {},
   "outputs": [
    {
     "ename": "SyntaxError",
     "evalue": "invalid syntax (182722112.py, line 1)",
     "output_type": "error",
     "traceback": [
      "\u001b[0;36m  Cell \u001b[0;32mIn[2], line 1\u001b[0;36m\u001b[0m\n\u001b[0;31m    if = 10\u001b[0m\n\u001b[0m       ^\u001b[0m\n\u001b[0;31mSyntaxError\u001b[0m\u001b[0;31m:\u001b[0m invalid syntax\n"
     ]
    }
   ],
   "source": [
    "if = 10"
   ]
  },
  {
   "cell_type": "markdown",
   "id": "56c8b1c5-136c-424b-b903-b91b37471f3d",
   "metadata": {},
   "source": [
    "Q3. Can we actually declare a string as a variable name?\n"
   ]
  },
  {
   "cell_type": "markdown",
   "id": "d55ac099-13b3-40e2-8382-bc73515e653d",
   "metadata": {},
   "source": [
    "We cannot directly declare a string as a variable name using the regular variable assignment syntax. Variable names in Python must follow certain rules and constraints, and they cannot be arbitrary strings. Valid variable names must follow the following rules:\n",
    "1. Variable names can only contain letters (a-z, A-Z), digits (0-9), and underscores (_).\n",
    "2. Variable names must start with a letter or an underscore. They cannot start with a digit.\n",
    "3. Variable names are case-sensitive, so myVariable and MyVariable would be considered as two different variables.\n",
    "4. Variable names cannot be Python keywords or reserved words, such as if, else, while, for, def, class, etc.\n"
   ]
  },
  {
   "cell_type": "code",
   "execution_count": 5,
   "id": "d91bb1fa-968c-4446-98fa-06b6a74c7d21",
   "metadata": {},
   "outputs": [],
   "source": [
    "my_variable = 18\n",
    "user_name = \"Aditya\"\n",
    "num_items = 5\n"
   ]
  },
  {
   "cell_type": "code",
   "execution_count": 6,
   "id": "b141f5ca-e883-486d-8b71-fe8da7f095f9",
   "metadata": {},
   "outputs": [
    {
     "ename": "SyntaxError",
     "evalue": "cannot assign to literal here. Maybe you meant '==' instead of '='? (1950675176.py, line 1)",
     "output_type": "error",
     "traceback": [
      "\u001b[0;36m  Cell \u001b[0;32mIn[6], line 1\u001b[0;36m\u001b[0m\n\u001b[0;31m    \"my_variable\" = 18\u001b[0m\n\u001b[0m    ^\u001b[0m\n\u001b[0;31mSyntaxError\u001b[0m\u001b[0;31m:\u001b[0m cannot assign to literal here. Maybe you meant '==' instead of '='?\n"
     ]
    }
   ],
   "source": [
    "\"my_variable\" = 18\n"
   ]
  },
  {
   "cell_type": "markdown",
   "id": "c9b2a90d-4052-4a47-b6f1-890ead9f206a",
   "metadata": {},
   "source": [
    "Q4. Is it possible for us to declare “_” as a variable? If so, then write an example of it."
   ]
  },
  {
   "cell_type": "markdown",
   "id": "e22f3d0b-bf24-4057-a8cf-cb8b8a53cce9",
   "metadata": {},
   "source": [
    "Yes, it is possible to declare a variable with the name _ (underscore) in Python. The underscore is a valid character for variable names and can be used as a regular variable name."
   ]
  },
  {
   "cell_type": "code",
   "execution_count": 7,
   "id": "c67743a8-ec98-4e5f-8ad9-eec992b94b1e",
   "metadata": {},
   "outputs": [
    {
     "name": "stdout",
     "output_type": "stream",
     "text": [
      "42\n"
     ]
    }
   ],
   "source": [
    "_ = 42\n",
    "print(_)"
   ]
  },
  {
   "cell_type": "markdown",
   "id": "8926ddd0-7f9c-4030-8ed1-6f19f9d989ce",
   "metadata": {},
   "source": [
    "Q5. Using an example, explain how the variables in python are dynamic in nature."
   ]
  },
  {
   "cell_type": "code",
   "execution_count": null,
   "id": "2c5adb95-7823-4b7f-ab3f-e0fe9af20ba3",
   "metadata": {},
   "outputs": [],
   "source": [
    "x = 10\n",
    "print(\"x:\", x)  \n",
    "\n",
    "x = \"Hello, Python!\"\n",
    "print(\"x:\", x) \n",
    "x = [1, 2, 3, 4]\n",
    "print(\"x:\", x)\n",
    "\n",
    "def greet(name):\n",
    "    return f\"Hello, {name}!\"\n",
    "\n",
    "x = greet\n",
    "print(x(\"Alice\"))\n",
    "\n",
    "x = True\n",
    "print(\"x:\", x)  \n"
   ]
  }
 ],
 "metadata": {
  "kernelspec": {
   "display_name": "Python 3 (ipykernel)",
   "language": "python",
   "name": "python3"
  },
  "language_info": {
   "codemirror_mode": {
    "name": "ipython",
    "version": 3
   },
   "file_extension": ".py",
   "mimetype": "text/x-python",
   "name": "python",
   "nbconvert_exporter": "python",
   "pygments_lexer": "ipython3",
   "version": "3.10.8"
  }
 },
 "nbformat": 4,
 "nbformat_minor": 5
}
