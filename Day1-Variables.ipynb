{
 "cells": [
  {
   "cell_type": "code",
   "execution_count": 1,
   "id": "78155b77-3e6e-494b-8f17-cbb15dfb3eb3",
   "metadata": {},
   "outputs": [
    {
     "data": {
      "text/plain": [
       "3"
      ]
     },
     "execution_count": 1,
     "metadata": {},
     "output_type": "execute_result"
    }
   ],
   "source": [
    "1+2"
   ]
  },
  {
   "cell_type": "code",
   "execution_count": 2,
   "id": "3fe5de7d-4b28-40f3-90d9-c53aba9391d1",
   "metadata": {},
   "outputs": [],
   "source": [
    "a = 2"
   ]
  },
  {
   "cell_type": "code",
   "execution_count": 3,
   "id": "bf97291c-ba6d-40c9-8016-eaae3afa893e",
   "metadata": {},
   "outputs": [
    {
     "data": {
      "text/plain": [
       "2"
      ]
     },
     "execution_count": 3,
     "metadata": {},
     "output_type": "execute_result"
    }
   ],
   "source": [
    "a"
   ]
  },
  {
   "cell_type": "code",
   "execution_count": 4,
   "id": "db6d184e-4007-4ebe-99cf-aeab55fe4f7d",
   "metadata": {},
   "outputs": [
    {
     "data": {
      "text/plain": [
       "int"
      ]
     },
     "execution_count": 4,
     "metadata": {},
     "output_type": "execute_result"
    }
   ],
   "source": [
    "type(a)"
   ]
  },
  {
   "cell_type": "code",
   "execution_count": 8,
   "id": "8e89523b-03fb-4911-9cdc-77dea59a52e1",
   "metadata": {},
   "outputs": [],
   "source": [
    "b = 45.34"
   ]
  },
  {
   "cell_type": "code",
   "execution_count": 9,
   "id": "747464c0-de65-4799-a99f-c7aae3bbc2fd",
   "metadata": {},
   "outputs": [
    {
     "data": {
      "text/plain": [
       "45.34"
      ]
     },
     "execution_count": 9,
     "metadata": {},
     "output_type": "execute_result"
    }
   ],
   "source": [
    "b"
   ]
  },
  {
   "cell_type": "code",
   "execution_count": 10,
   "id": "4a12274f-0950-4de8-9879-73aa8d1113cf",
   "metadata": {},
   "outputs": [
    {
     "data": {
      "text/plain": [
       "float"
      ]
     },
     "execution_count": 10,
     "metadata": {},
     "output_type": "execute_result"
    }
   ],
   "source": [
    "type(b)"
   ]
  },
  {
   "cell_type": "code",
   "execution_count": 11,
   "id": "a48e2b2e-a999-4a72-bafc-875a78cfc577",
   "metadata": {},
   "outputs": [
    {
     "data": {
      "text/plain": [
       "47.34"
      ]
     },
     "execution_count": 11,
     "metadata": {},
     "output_type": "execute_result"
    }
   ],
   "source": [
    "a+b"
   ]
  },
  {
   "cell_type": "code",
   "execution_count": 13,
   "id": "a7fd70b7-0908-4ecb-a8ff-2a134759f51b",
   "metadata": {},
   "outputs": [
    {
     "data": {
      "text/plain": [
       "float"
      ]
     },
     "execution_count": 13,
     "metadata": {},
     "output_type": "execute_result"
    }
   ],
   "source": [
    "type(a+b)"
   ]
  },
  {
   "cell_type": "code",
   "execution_count": 14,
   "id": "be736b94-a6a1-45cb-893f-c54b337ba3dd",
   "metadata": {},
   "outputs": [],
   "source": [
    "a=345.456456"
   ]
  },
  {
   "cell_type": "code",
   "execution_count": 15,
   "id": "217ee236-c6cb-4e12-8ae7-8de71ca80744",
   "metadata": {},
   "outputs": [],
   "source": [
    "s=\"aditya\""
   ]
  },
  {
   "cell_type": "code",
   "execution_count": 16,
   "id": "6e7b6974-8040-48aa-bc65-51801f945780",
   "metadata": {},
   "outputs": [
    {
     "data": {
      "text/plain": [
       "'aditya'"
      ]
     },
     "execution_count": 16,
     "metadata": {},
     "output_type": "execute_result"
    }
   ],
   "source": [
    "s"
   ]
  },
  {
   "cell_type": "code",
   "execution_count": 19,
   "id": "d0ca147c-340b-4fcc-afa7-9fb254e76c6f",
   "metadata": {},
   "outputs": [],
   "source": [
    "c=\"my pet name is coco\""
   ]
  },
  {
   "cell_type": "code",
   "execution_count": 20,
   "id": "98195e54-c0c3-4bac-ba87-f7785c9c9b2b",
   "metadata": {},
   "outputs": [
    {
     "data": {
      "text/plain": [
       "'my pet name is coco'"
      ]
     },
     "execution_count": 20,
     "metadata": {},
     "output_type": "execute_result"
    }
   ],
   "source": [
    "c"
   ]
  },
  {
   "cell_type": "code",
   "execution_count": 21,
   "id": "936090a2-eb45-4560-aae2-1909e8446e24",
   "metadata": {},
   "outputs": [
    {
     "data": {
      "text/plain": [
       "'aditya'"
      ]
     },
     "execution_count": 21,
     "metadata": {},
     "output_type": "execute_result"
    }
   ],
   "source": [
    "s"
   ]
  },
  {
   "cell_type": "code",
   "execution_count": 22,
   "id": "30e7284e-89ea-4b3c-8aef-e04afb4ea7ab",
   "metadata": {},
   "outputs": [
    {
     "data": {
      "text/plain": [
       "str"
      ]
     },
     "execution_count": 22,
     "metadata": {},
     "output_type": "execute_result"
    }
   ],
   "source": [
    "type(s)"
   ]
  },
  {
   "cell_type": "code",
   "execution_count": 23,
   "id": "ac07bd86-7554-44cf-abd7-9bc123685597",
   "metadata": {},
   "outputs": [
    {
     "data": {
      "text/plain": [
       "str"
      ]
     },
     "execution_count": 23,
     "metadata": {},
     "output_type": "execute_result"
    }
   ],
   "source": [
    "type(c)"
   ]
  },
  {
   "cell_type": "code",
   "execution_count": 24,
   "id": "8e72da35-c82a-435a-acab-ba42bfedc135",
   "metadata": {},
   "outputs": [],
   "source": [
    "b=True"
   ]
  },
  {
   "cell_type": "code",
   "execution_count": 25,
   "id": "23ad0cef-5f51-438e-9a10-3e42d6ac2b7e",
   "metadata": {},
   "outputs": [
    {
     "data": {
      "text/plain": [
       "True"
      ]
     },
     "execution_count": 25,
     "metadata": {},
     "output_type": "execute_result"
    }
   ],
   "source": [
    "b"
   ]
  },
  {
   "cell_type": "code",
   "execution_count": 26,
   "id": "c9cc8fbf-bbfd-4684-9f35-37ca863fd0b0",
   "metadata": {},
   "outputs": [
    {
     "data": {
      "text/plain": [
       "bool"
      ]
     },
     "execution_count": 26,
     "metadata": {},
     "output_type": "execute_result"
    }
   ],
   "source": [
    "type(b)"
   ]
  },
  {
   "cell_type": "code",
   "execution_count": 27,
   "id": "b0cbd4c9-b07c-4bdb-a336-c2455533e103",
   "metadata": {},
   "outputs": [
    {
     "ename": "NameError",
     "evalue": "name 'true' is not defined",
     "output_type": "error",
     "traceback": [
      "\u001b[0;31m---------------------------------------------------------------------------\u001b[0m",
      "\u001b[0;31mNameError\u001b[0m                                 Traceback (most recent call last)",
      "Cell \u001b[0;32mIn[27], line 1\u001b[0m\n\u001b[0;32m----> 1\u001b[0m b1\u001b[38;5;241m=\u001b[39m \u001b[43mtrue\u001b[49m\n",
      "\u001b[0;31mNameError\u001b[0m: name 'true' is not defined"
     ]
    }
   ],
   "source": [
    "b1= true"
   ]
  },
  {
   "cell_type": "code",
   "execution_count": 28,
   "id": "789fc6d2-21f8-424b-92f1-77c02c63500d",
   "metadata": {},
   "outputs": [],
   "source": [
    "b1= True"
   ]
  },
  {
   "cell_type": "code",
   "execution_count": 29,
   "id": "0ac7d1e7-77d0-475e-a430-f615a0f25145",
   "metadata": {},
   "outputs": [],
   "source": [
    "b2 = False"
   ]
  },
  {
   "cell_type": "code",
   "execution_count": 30,
   "id": "949e0578-2b06-4812-acde-5fcf995e9ca5",
   "metadata": {},
   "outputs": [
    {
     "data": {
      "text/plain": [
       "1"
      ]
     },
     "execution_count": 30,
     "metadata": {},
     "output_type": "execute_result"
    }
   ],
   "source": [
    "b1-b2"
   ]
  },
  {
   "cell_type": "code",
   "execution_count": 31,
   "id": "d31762b0-1124-47de-8b84-b8216113e58d",
   "metadata": {},
   "outputs": [
    {
     "data": {
      "text/plain": [
       "1"
      ]
     },
     "execution_count": 31,
     "metadata": {},
     "output_type": "execute_result"
    }
   ],
   "source": [
    "b1+b2"
   ]
  },
  {
   "cell_type": "code",
   "execution_count": 32,
   "id": "e2c44fef-31f9-44c8-9764-1bfd1c0c80ca",
   "metadata": {},
   "outputs": [
    {
     "data": {
      "text/plain": [
       "0"
      ]
     },
     "execution_count": 32,
     "metadata": {},
     "output_type": "execute_result"
    }
   ],
   "source": [
    "b1*b2"
   ]
  },
  {
   "cell_type": "code",
   "execution_count": 33,
   "id": "b4a6cdcc-8ceb-4ba3-943c-722f011df3f7",
   "metadata": {},
   "outputs": [
    {
     "ename": "ZeroDivisionError",
     "evalue": "division by zero",
     "output_type": "error",
     "traceback": [
      "\u001b[0;31m---------------------------------------------------------------------------\u001b[0m",
      "\u001b[0;31mZeroDivisionError\u001b[0m                         Traceback (most recent call last)",
      "Cell \u001b[0;32mIn[33], line 1\u001b[0m\n\u001b[0;32m----> 1\u001b[0m \u001b[43mb1\u001b[49m\u001b[38;5;241;43m/\u001b[39;49m\u001b[43mb2\u001b[49m\n",
      "\u001b[0;31mZeroDivisionError\u001b[0m: division by zero"
     ]
    }
   ],
   "source": [
    "b1/b2"
   ]
  },
  {
   "cell_type": "code",
   "execution_count": 34,
   "id": "d1e589c3-2885-417d-aebc-d10001dc1ca3",
   "metadata": {},
   "outputs": [
    {
     "data": {
      "text/plain": [
       "0.0"
      ]
     },
     "execution_count": 34,
     "metadata": {},
     "output_type": "execute_result"
    }
   ],
   "source": [
    "b2/b1"
   ]
  },
  {
   "cell_type": "code",
   "execution_count": 35,
   "id": "60cad05a-9a22-40c7-8dc8-5f52377ecb04",
   "metadata": {},
   "outputs": [
    {
     "ename": "NameError",
     "evalue": "name 'A' is not defined",
     "output_type": "error",
     "traceback": [
      "\u001b[0;31m---------------------------------------------------------------------------\u001b[0m",
      "\u001b[0;31mNameError\u001b[0m                                 Traceback (most recent call last)",
      "Cell \u001b[0;32mIn[35], line 1\u001b[0m\n\u001b[0;32m----> 1\u001b[0m \u001b[43mA\u001b[49m\u001b[38;5;241m+\u001b[39mb1\n",
      "\u001b[0;31mNameError\u001b[0m: name 'A' is not defined"
     ]
    }
   ],
   "source": [
    "A+b1"
   ]
  },
  {
   "cell_type": "code",
   "execution_count": 36,
   "id": "b3459ef3-6fee-4ec7-8e79-2def15991c39",
   "metadata": {},
   "outputs": [
    {
     "data": {
      "text/plain": [
       "346.456456"
      ]
     },
     "execution_count": 36,
     "metadata": {},
     "output_type": "execute_result"
    }
   ],
   "source": [
    "a+b1"
   ]
  },
  {
   "cell_type": "code",
   "execution_count": 37,
   "id": "37c9fcb9-92be-45e5-af09-48cca691570a",
   "metadata": {},
   "outputs": [
    {
     "data": {
      "text/plain": [
       "346.456456"
      ]
     },
     "execution_count": 37,
     "metadata": {},
     "output_type": "execute_result"
    }
   ],
   "source": [
    "a+b1"
   ]
  },
  {
   "cell_type": "code",
   "execution_count": 38,
   "id": "fcbb840a-7411-4bbb-9625-de7568ee6a68",
   "metadata": {},
   "outputs": [],
   "source": [
    "h = 7+8j"
   ]
  },
  {
   "cell_type": "code",
   "execution_count": 39,
   "id": "50b9db4d-8ab0-4232-ada4-ccef4df95674",
   "metadata": {},
   "outputs": [
    {
     "data": {
      "text/plain": [
       "complex"
      ]
     },
     "execution_count": 39,
     "metadata": {},
     "output_type": "execute_result"
    }
   ],
   "source": [
    "type(h)"
   ]
  },
  {
   "cell_type": "code",
   "execution_count": 40,
   "id": "715bd665-4ec3-4a17-b2af-4ca0c3f6fe38",
   "metadata": {},
   "outputs": [
    {
     "data": {
      "text/plain": [
       "(7+8j)"
      ]
     },
     "execution_count": 40,
     "metadata": {},
     "output_type": "execute_result"
    }
   ],
   "source": [
    "h"
   ]
  },
  {
   "cell_type": "code",
   "execution_count": 41,
   "id": "9addd087-8e30-4141-8bbb-b1e3cb640629",
   "metadata": {},
   "outputs": [
    {
     "data": {
      "text/plain": [
       "7.0"
      ]
     },
     "execution_count": 41,
     "metadata": {},
     "output_type": "execute_result"
    }
   ],
   "source": [
    "h.real"
   ]
  },
  {
   "cell_type": "code",
   "execution_count": 42,
   "id": "010e2e80-be84-4586-9a43-f6c8a72043ae",
   "metadata": {},
   "outputs": [
    {
     "data": {
      "text/plain": [
       "8.0"
      ]
     },
     "execution_count": 42,
     "metadata": {},
     "output_type": "execute_result"
    }
   ],
   "source": [
    "h.imag"
   ]
  },
  {
   "cell_type": "code",
   "execution_count": 45,
   "id": "4f045f55-70f8-4fcf-8309-37454d00cb10",
   "metadata": {},
   "outputs": [
    {
     "data": {
      "text/plain": [
       "(7-8j)"
      ]
     },
     "execution_count": 45,
     "metadata": {},
     "output_type": "execute_result"
    }
   ],
   "source": [
    "h.conjugate()"
   ]
  },
  {
   "cell_type": "code",
   "execution_count": 44,
   "id": "20d15932-60d1-4153-859f-7e701b7410ab",
   "metadata": {},
   "outputs": [
    {
     "data": {
      "text/plain": [
       "<function str.capitalize()>"
      ]
     },
     "execution_count": 44,
     "metadata": {},
     "output_type": "execute_result"
    }
   ],
   "source": [
    "s.capitalize"
   ]
  },
  {
   "cell_type": "code",
   "execution_count": 46,
   "id": "e34e3ecf-815b-415c-a766-af2048abda28",
   "metadata": {},
   "outputs": [
    {
     "data": {
      "text/plain": [
       "'Aditya'"
      ]
     },
     "execution_count": 46,
     "metadata": {},
     "output_type": "execute_result"
    }
   ],
   "source": [
    "s.capitalize()"
   ]
  },
  {
   "cell_type": "code",
   "execution_count": 47,
   "id": "dcca72cf-ac1c-4a17-8d81-ed568bfb2492",
   "metadata": {},
   "outputs": [
    {
     "data": {
      "text/plain": [
       "'aditya'"
      ]
     },
     "execution_count": 47,
     "metadata": {},
     "output_type": "execute_result"
    }
   ],
   "source": [
    "s.casefold()"
   ]
  }
 ],
 "metadata": {
  "kernelspec": {
   "display_name": "Python 3 (ipykernel)",
   "language": "python",
   "name": "python3"
  },
  "language_info": {
   "codemirror_mode": {
    "name": "ipython",
    "version": 3
   },
   "file_extension": ".py",
   "mimetype": "text/x-python",
   "name": "python",
   "nbconvert_exporter": "python",
   "pygments_lexer": "ipython3",
   "version": "3.10.8"
  }
 },
 "nbformat": 4,
 "nbformat_minor": 5
}
