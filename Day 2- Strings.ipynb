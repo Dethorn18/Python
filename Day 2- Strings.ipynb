{
 "cells": [
  {
   "cell_type": "code",
   "execution_count": 1,
   "id": "46b54d37-9d9f-4be4-b7be-5d2ec5e649db",
   "metadata": {},
   "outputs": [],
   "source": [
    "s=\"Aditya\""
   ]
  },
  {
   "cell_type": "code",
   "execution_count": 2,
   "id": "51d87045-dd5f-4546-9fd1-899a624744da",
   "metadata": {},
   "outputs": [
    {
     "data": {
      "text/plain": [
       "str"
      ]
     },
     "execution_count": 2,
     "metadata": {},
     "output_type": "execute_result"
    }
   ],
   "source": [
    "type(s)"
   ]
  },
  {
   "cell_type": "code",
   "execution_count": 3,
   "id": "e5f8376d-02d4-45a3-a144-376b477ef0a7",
   "metadata": {},
   "outputs": [],
   "source": [
    "s1=\"this is my string inbuilt class\""
   ]
  },
  {
   "cell_type": "code",
   "execution_count": 4,
   "id": "1b136c68-f880-4d55-af5e-9bdea2ea64b3",
   "metadata": {},
   "outputs": [
    {
     "data": {
      "text/plain": [
       "str"
      ]
     },
     "execution_count": 4,
     "metadata": {},
     "output_type": "execute_result"
    }
   ],
   "source": [
    "type(s1)"
   ]
  },
  {
   "cell_type": "code",
   "execution_count": 5,
   "id": "0e52d58b-08d0-474d-a5da-a447abfbf65b",
   "metadata": {},
   "outputs": [
    {
     "data": {
      "text/plain": [
       "31"
      ]
     },
     "execution_count": 5,
     "metadata": {},
     "output_type": "execute_result"
    }
   ],
   "source": [
    "len(s1)"
   ]
  },
  {
   "cell_type": "code",
   "execution_count": 6,
   "id": "18f74b5b-58a9-43a3-b768-a01397b5beca",
   "metadata": {},
   "outputs": [
    {
     "data": {
      "text/plain": [
       "6"
      ]
     },
     "execution_count": 6,
     "metadata": {},
     "output_type": "execute_result"
    }
   ],
   "source": [
    "len(s)"
   ]
  },
  {
   "cell_type": "code",
   "execution_count": 7,
   "id": "3c457183-25f9-4507-a9f1-dab0fcf5a84c",
   "metadata": {},
   "outputs": [
    {
     "data": {
      "text/plain": [
       "'This is my string inbuilt class'"
      ]
     },
     "execution_count": 7,
     "metadata": {},
     "output_type": "execute_result"
    }
   ],
   "source": [
    "s1.capitalize()"
   ]
  },
  {
   "cell_type": "code",
   "execution_count": 8,
   "id": "952cfbbe-2024-4cd5-abf8-374d21c7be18",
   "metadata": {},
   "outputs": [
    {
     "data": {
      "text/plain": [
       "'this is my string inbuilt class'"
      ]
     },
     "execution_count": 8,
     "metadata": {},
     "output_type": "execute_result"
    }
   ],
   "source": [
    "s1.casefold()"
   ]
  },
  {
   "cell_type": "code",
   "execution_count": 9,
   "id": "eb732c9d-844d-47d5-bed9-d9d3e0660bae",
   "metadata": {},
   "outputs": [
    {
     "data": {
      "text/plain": [
       "'aditya'"
      ]
     },
     "execution_count": 9,
     "metadata": {},
     "output_type": "execute_result"
    }
   ],
   "source": [
    "s.casefold()"
   ]
  },
  {
   "cell_type": "code",
   "execution_count": 10,
   "id": "02beb6b4-cca3-4178-ab26-800f04e5be36",
   "metadata": {},
   "outputs": [],
   "source": [
    "a=\"ADITYA\""
   ]
  },
  {
   "cell_type": "code",
   "execution_count": 11,
   "id": "784e2d11-34a8-4cd4-a3d0-794d961b4360",
   "metadata": {},
   "outputs": [
    {
     "data": {
      "text/plain": [
       "'aditya'"
      ]
     },
     "execution_count": 11,
     "metadata": {},
     "output_type": "execute_result"
    }
   ],
   "source": [
    "a.casefold()"
   ]
  },
  {
   "cell_type": "code",
   "execution_count": 14,
   "id": "e73cd703-b76b-4a76-97d5-14ba4d674b6b",
   "metadata": {},
   "outputs": [
    {
     "data": {
      "text/plain": [
       "3"
      ]
     },
     "execution_count": 14,
     "metadata": {},
     "output_type": "execute_result"
    }
   ],
   "source": [
    "s1.find('s')"
   ]
  },
  {
   "cell_type": "code",
   "execution_count": 17,
   "id": "60f86a63-4392-4ad9-92f3-fb3bc3c57d64",
   "metadata": {},
   "outputs": [
    {
     "data": {
      "text/plain": [
       "-1"
      ]
     },
     "execution_count": 17,
     "metadata": {},
     "output_type": "execute_result"
    }
   ],
   "source": [
    "s1.find('S')"
   ]
  },
  {
   "cell_type": "code",
   "execution_count": 18,
   "id": "a33f3e2f-663d-4654-91ae-7779130a3d5e",
   "metadata": {},
   "outputs": [],
   "source": [
    "s2='pwskills'"
   ]
  },
  {
   "cell_type": "code",
   "execution_count": 20,
   "id": "6c02341a-3477-4c8e-91ea-2f3fa250e129",
   "metadata": {},
   "outputs": [
    {
     "data": {
      "text/plain": [
       "5"
      ]
     },
     "execution_count": 20,
     "metadata": {},
     "output_type": "execute_result"
    }
   ],
   "source": [
    "s2.find('l')"
   ]
  },
  {
   "cell_type": "code",
   "execution_count": 21,
   "id": "9d01eacf-a383-4122-9226-926ca3c4a51c",
   "metadata": {},
   "outputs": [
    {
     "data": {
      "text/plain": [
       "2"
      ]
     },
     "execution_count": 21,
     "metadata": {},
     "output_type": "execute_result"
    }
   ],
   "source": [
    "s2.find('sk')"
   ]
  },
  {
   "cell_type": "code",
   "execution_count": 22,
   "id": "29281745-f2e9-488c-849b-5fe5cd85006c",
   "metadata": {},
   "outputs": [
    {
     "data": {
      "text/plain": [
       "2"
      ]
     },
     "execution_count": 22,
     "metadata": {},
     "output_type": "execute_result"
    }
   ],
   "source": [
    "s2.count('l')"
   ]
  },
  {
   "cell_type": "code",
   "execution_count": 24,
   "id": "e6418355-c8b2-423a-94e7-1022ada6d2c9",
   "metadata": {},
   "outputs": [
    {
     "data": {
      "text/plain": [
       "2"
      ]
     },
     "execution_count": 24,
     "metadata": {},
     "output_type": "execute_result"
    }
   ],
   "source": [
    "s1.count('l')"
   ]
  },
  {
   "cell_type": "code",
   "execution_count": 25,
   "id": "ed5ddc69-1668-452b-a1f0-dd276cfccb5d",
   "metadata": {},
   "outputs": [
    {
     "data": {
      "text/plain": [
       "'PWSKILLS'"
      ]
     },
     "execution_count": 25,
     "metadata": {},
     "output_type": "execute_result"
    }
   ],
   "source": [
    "s2.upper()"
   ]
  },
  {
   "cell_type": "code",
   "execution_count": 26,
   "id": "ef1cd0ec-742d-4dcd-9709-24fac5f6ae29",
   "metadata": {},
   "outputs": [
    {
     "data": {
      "text/plain": [
       "'pwskills'"
      ]
     },
     "execution_count": 26,
     "metadata": {},
     "output_type": "execute_result"
    }
   ],
   "source": [
    "s2.lower()"
   ]
  },
  {
   "cell_type": "code",
   "execution_count": 30,
   "id": "d21c9228-ca93-4b1e-96fb-73742a52bc39",
   "metadata": {},
   "outputs": [],
   "source": [
    "s2= s2.upper()"
   ]
  },
  {
   "cell_type": "code",
   "execution_count": 29,
   "id": "673cec16-a199-49ca-b86a-d913482073f0",
   "metadata": {},
   "outputs": [
    {
     "data": {
      "text/plain": [
       "'PWSKILLS'"
      ]
     },
     "execution_count": 29,
     "metadata": {},
     "output_type": "execute_result"
    }
   ],
   "source": [
    "s2"
   ]
  },
  {
   "cell_type": "code",
   "execution_count": 31,
   "id": "ff38dd45-3c08-47ba-92dc-7e1416d51675",
   "metadata": {},
   "outputs": [
    {
     "data": {
      "text/plain": [
       "'THIS IS MY STRING INBUILT CLASS'"
      ]
     },
     "execution_count": 31,
     "metadata": {},
     "output_type": "execute_result"
    }
   ],
   "source": [
    "s1.swapcase()"
   ]
  },
  {
   "cell_type": "code",
   "execution_count": 32,
   "id": "03f5322f-1fcf-4f69-b8dc-8023db0352b4",
   "metadata": {},
   "outputs": [
    {
     "data": {
      "text/plain": [
       "'This Is My String Inbuilt Class'"
      ]
     },
     "execution_count": 32,
     "metadata": {},
     "output_type": "execute_result"
    }
   ],
   "source": [
    "s1.title()"
   ]
  },
  {
   "cell_type": "code",
   "execution_count": 25,
   "id": "ff591473-d81a-45f3-8eae-08ea6e302f81",
   "metadata": {},
   "outputs": [
    {
     "ename": "NameError",
     "evalue": "name 's1' is not defined",
     "output_type": "error",
     "traceback": [
      "\u001b[0;31m---------------------------------------------------------------------------\u001b[0m",
      "\u001b[0;31mNameError\u001b[0m                                 Traceback (most recent call last)",
      "Cell \u001b[0;32mIn[25], line 1\u001b[0m\n\u001b[0;32m----> 1\u001b[0m \u001b[43ms1\u001b[49m\u001b[38;5;241m.\u001b[39mcapitalize()\n",
      "\u001b[0;31mNameError\u001b[0m: name 's1' is not defined"
     ]
    }
   ],
   "source": [
    "s1.capitalize()"
   ]
  },
  {
   "cell_type": "markdown",
   "id": "89b04b5b-a770-4465-ba3a-62dd77751762",
   "metadata": {},
   "source": [
    "String Slicing And Indexing"
   ]
  },
  {
   "cell_type": "code",
   "execution_count": 1,
   "id": "a893dcb5-3463-4856-afdb-73b84d0505cd",
   "metadata": {},
   "outputs": [],
   "source": [
    "s=\"pwskills\""
   ]
  },
  {
   "cell_type": "code",
   "execution_count": 2,
   "id": "679cc887-0167-49ac-b275-6cf218654460",
   "metadata": {},
   "outputs": [
    {
     "data": {
      "text/plain": [
       "'p'"
      ]
     },
     "execution_count": 2,
     "metadata": {},
     "output_type": "execute_result"
    }
   ],
   "source": [
    "s[0]"
   ]
  },
  {
   "cell_type": "code",
   "execution_count": 3,
   "id": "5abb8c82-e840-4492-96d6-717523aec3b5",
   "metadata": {},
   "outputs": [
    {
     "data": {
      "text/plain": [
       "'s'"
      ]
     },
     "execution_count": 3,
     "metadata": {},
     "output_type": "execute_result"
    }
   ],
   "source": [
    "s[7]"
   ]
  },
  {
   "cell_type": "code",
   "execution_count": 4,
   "id": "2353f36c-de99-4b1b-9082-78d403cf9aae",
   "metadata": {},
   "outputs": [
    {
     "ename": "IndexError",
     "evalue": "string index out of range",
     "output_type": "error",
     "traceback": [
      "\u001b[0;31m---------------------------------------------------------------------------\u001b[0m",
      "\u001b[0;31mIndexError\u001b[0m                                Traceback (most recent call last)",
      "Cell \u001b[0;32mIn[4], line 1\u001b[0m\n\u001b[0;32m----> 1\u001b[0m \u001b[43ms\u001b[49m\u001b[43m[\u001b[49m\u001b[38;5;241;43m100\u001b[39;49m\u001b[43m]\u001b[49m\n",
      "\u001b[0;31mIndexError\u001b[0m: string index out of range"
     ]
    }
   ],
   "source": [
    "s[100]"
   ]
  },
  {
   "cell_type": "code",
   "execution_count": 5,
   "id": "0c8be70f-f975-470b-a260-216bf819d9e2",
   "metadata": {},
   "outputs": [
    {
     "data": {
      "text/plain": [
       "'s'"
      ]
     },
     "execution_count": 5,
     "metadata": {},
     "output_type": "execute_result"
    }
   ],
   "source": [
    "s[-1]"
   ]
  },
  {
   "cell_type": "code",
   "execution_count": 6,
   "id": "af48d298-b416-4af6-a7a3-e63e3dac3381",
   "metadata": {},
   "outputs": [
    {
     "data": {
      "text/plain": [
       "'k'"
      ]
     },
     "execution_count": 6,
     "metadata": {},
     "output_type": "execute_result"
    }
   ],
   "source": [
    "s[-5]"
   ]
  },
  {
   "cell_type": "code",
   "execution_count": 7,
   "id": "ee44b88a-d825-41d4-95ce-51af3cbac29b",
   "metadata": {},
   "outputs": [
    {
     "ename": "IndexError",
     "evalue": "string index out of range",
     "output_type": "error",
     "traceback": [
      "\u001b[0;31m---------------------------------------------------------------------------\u001b[0m",
      "\u001b[0;31mIndexError\u001b[0m                                Traceback (most recent call last)",
      "Cell \u001b[0;32mIn[7], line 1\u001b[0m\n\u001b[0;32m----> 1\u001b[0m \u001b[43ms\u001b[49m\u001b[43m[\u001b[49m\u001b[38;5;241;43m-\u001b[39;49m\u001b[38;5;241;43m20\u001b[39;49m\u001b[43m]\u001b[49m\n",
      "\u001b[0;31mIndexError\u001b[0m: string index out of range"
     ]
    }
   ],
   "source": [
    "s[-20]"
   ]
  },
  {
   "cell_type": "code",
   "execution_count": 8,
   "id": "80391a8b-8223-44f2-b082-fd8f9f48606b",
   "metadata": {},
   "outputs": [
    {
     "data": {
      "text/plain": [
       "'pwskills'"
      ]
     },
     "execution_count": 8,
     "metadata": {},
     "output_type": "execute_result"
    }
   ],
   "source": [
    "s"
   ]
  },
  {
   "cell_type": "code",
   "execution_count": 9,
   "id": "99fa965a-d7d4-45cf-bf4c-5ed3b4ef46e4",
   "metadata": {},
   "outputs": [
    {
     "ename": "TypeError",
     "evalue": "string indices must be integers",
     "output_type": "error",
     "traceback": [
      "\u001b[0;31m---------------------------------------------------------------------------\u001b[0m",
      "\u001b[0;31mTypeError\u001b[0m                                 Traceback (most recent call last)",
      "Cell \u001b[0;32mIn[9], line 1\u001b[0m\n\u001b[0;32m----> 1\u001b[0m \u001b[43ms\u001b[49m\u001b[43m[\u001b[49m\u001b[38;5;241;43m0\u001b[39;49m\u001b[43m,\u001b[49m\u001b[38;5;241;43m1\u001b[39;49m\u001b[43m,\u001b[49m\u001b[38;5;241;43m2\u001b[39;49m\u001b[43m]\u001b[49m\n",
      "\u001b[0;31mTypeError\u001b[0m: string indices must be integers"
     ]
    }
   ],
   "source": [
    "s[0,1,2]"
   ]
  },
  {
   "cell_type": "code",
   "execution_count": 10,
   "id": "6b0cf384-6908-448d-be31-5c180d19e458",
   "metadata": {},
   "outputs": [
    {
     "data": {
      "text/plain": [
       "'pw'"
      ]
     },
     "execution_count": 10,
     "metadata": {},
     "output_type": "execute_result"
    }
   ],
   "source": [
    "s[0:2]"
   ]
  },
  {
   "cell_type": "code",
   "execution_count": 11,
   "id": "4948ceed-6b58-4139-9aa5-befb03bbcce4",
   "metadata": {},
   "outputs": [
    {
     "data": {
      "text/plain": [
       "'pws'"
      ]
     },
     "execution_count": 11,
     "metadata": {},
     "output_type": "execute_result"
    }
   ],
   "source": [
    "s[0:3]"
   ]
  },
  {
   "cell_type": "code",
   "execution_count": 12,
   "id": "df07a854-9d02-4318-955e-b24e3ec1ac62",
   "metadata": {},
   "outputs": [
    {
     "data": {
      "text/plain": [
       "'kill'"
      ]
     },
     "execution_count": 12,
     "metadata": {},
     "output_type": "execute_result"
    }
   ],
   "source": [
    "s[3:7]"
   ]
  },
  {
   "cell_type": "code",
   "execution_count": 13,
   "id": "8a405b77-8c1f-484c-8117-252e06889fcb",
   "metadata": {},
   "outputs": [
    {
     "data": {
      "text/plain": [
       "''"
      ]
     },
     "execution_count": 13,
     "metadata": {},
     "output_type": "execute_result"
    }
   ],
   "source": [
    "s[-1:-5]"
   ]
  },
  {
   "cell_type": "code",
   "execution_count": 14,
   "id": "980fe69b-da2a-4bed-81c4-4b04a568c9a2",
   "metadata": {},
   "outputs": [
    {
     "data": {
      "text/plain": [
       "''"
      ]
     },
     "execution_count": 14,
     "metadata": {},
     "output_type": "execute_result"
    }
   ],
   "source": [
    "s[-1:-3]"
   ]
  },
  {
   "cell_type": "code",
   "execution_count": 15,
   "id": "b302e81c-2102-4410-aedc-bba8ecbd06c5",
   "metadata": {},
   "outputs": [
    {
     "data": {
      "text/plain": [
       "'pwskill'"
      ]
     },
     "execution_count": 15,
     "metadata": {},
     "output_type": "execute_result"
    }
   ],
   "source": [
    "s[0:7:1]"
   ]
  },
  {
   "cell_type": "code",
   "execution_count": 16,
   "id": "67dd52a8-76ad-4c20-b64b-56d986d431b1",
   "metadata": {},
   "outputs": [
    {
     "data": {
      "text/plain": [
       "'psil'"
      ]
     },
     "execution_count": 16,
     "metadata": {},
     "output_type": "execute_result"
    }
   ],
   "source": [
    "s[0:7:2]"
   ]
  },
  {
   "cell_type": "code",
   "execution_count": 17,
   "id": "0a18b028-ec64-414c-a6e8-4706d730066b",
   "metadata": {},
   "outputs": [
    {
     "data": {
      "text/plain": [
       "'kill'"
      ]
     },
     "execution_count": 17,
     "metadata": {},
     "output_type": "execute_result"
    }
   ],
   "source": [
    "s[3:7:1]"
   ]
  },
  {
   "cell_type": "code",
   "execution_count": 18,
   "id": "5e2d7462-000b-4948-a5c7-13c357b9c8b8",
   "metadata": {},
   "outputs": [
    {
     "data": {
      "text/plain": [
       "'kills'"
      ]
     },
     "execution_count": 18,
     "metadata": {},
     "output_type": "execute_result"
    }
   ],
   "source": [
    "s[3:8:1]"
   ]
  },
  {
   "cell_type": "code",
   "execution_count": 19,
   "id": "82cdd9d5-5705-4e3c-a412-0cada9fdba96",
   "metadata": {},
   "outputs": [
    {
     "data": {
      "text/plain": [
       "''"
      ]
     },
     "execution_count": 19,
     "metadata": {},
     "output_type": "execute_result"
    }
   ],
   "source": [
    "s[0:7:-1]"
   ]
  },
  {
   "cell_type": "code",
   "execution_count": 20,
   "id": "c56f3087-c294-4c9d-9161-57c0ef36b74e",
   "metadata": {},
   "outputs": [
    {
     "data": {
      "text/plain": [
       "'psil'"
      ]
     },
     "execution_count": 20,
     "metadata": {},
     "output_type": "execute_result"
    }
   ],
   "source": [
    "s[0:100:2]"
   ]
  },
  {
   "cell_type": "code",
   "execution_count": 21,
   "id": "064f2301-6d02-46aa-bd17-7eb186efb515",
   "metadata": {},
   "outputs": [
    {
     "data": {
      "text/plain": [
       "'pkl'"
      ]
     },
     "execution_count": 21,
     "metadata": {},
     "output_type": "execute_result"
    }
   ],
   "source": [
    "s[0:100:3]"
   ]
  },
  {
   "cell_type": "code",
   "execution_count": 22,
   "id": "ccab1428-a9d7-4215-aa36-afcadf4f66d3",
   "metadata": {},
   "outputs": [
    {
     "data": {
      "text/plain": [
       "''"
      ]
     },
     "execution_count": 22,
     "metadata": {},
     "output_type": "execute_result"
    }
   ],
   "source": [
    "s[-7:-3:-1]"
   ]
  },
  {
   "cell_type": "code",
   "execution_count": 23,
   "id": "52eda011-505a-4dbb-ba34-0ed57f48b9e0",
   "metadata": {},
   "outputs": [
    {
     "ename": "NameError",
     "evalue": "name 'S' is not defined",
     "output_type": "error",
     "traceback": [
      "\u001b[0;31m---------------------------------------------------------------------------\u001b[0m",
      "\u001b[0;31mNameError\u001b[0m                                 Traceback (most recent call last)",
      "Cell \u001b[0;32mIn[23], line 1\u001b[0m\n\u001b[0;32m----> 1\u001b[0m \u001b[43mS\u001b[49m[\u001b[38;5;241m6\u001b[39m:\u001b[38;5;241m1\u001b[39m:\u001b[38;5;241m-\u001b[39m\u001b[38;5;241m1\u001b[39m]\n",
      "\u001b[0;31mNameError\u001b[0m: name 'S' is not defined"
     ]
    }
   ],
   "source": [
    "S[6:1:-1]"
   ]
  },
  {
   "cell_type": "code",
   "execution_count": 24,
   "id": "b5380c8d-85fd-4ffc-b056-6725ab98e59e",
   "metadata": {},
   "outputs": [
    {
     "data": {
      "text/plain": [
       "'lliks'"
      ]
     },
     "execution_count": 24,
     "metadata": {},
     "output_type": "execute_result"
    }
   ],
   "source": [
    "s[6:1:-1]"
   ]
  },
  {
   "cell_type": "code",
   "execution_count": 26,
   "id": "ee6af9f0-7b69-4b1e-9c67-feb43170a9ae",
   "metadata": {},
   "outputs": [
    {
     "data": {
      "text/plain": [
       "'slkw'"
      ]
     },
     "execution_count": 26,
     "metadata": {},
     "output_type": "execute_result"
    }
   ],
   "source": [
    "s[8:0:-2]"
   ]
  },
  {
   "cell_type": "code",
   "execution_count": 31,
   "id": "f02ac235-9047-4f22-8b54-30646ca571d9",
   "metadata": {},
   "outputs": [
    {
     "data": {
      "text/plain": [
       "'slliks'"
      ]
     },
     "execution_count": 31,
     "metadata": {},
     "output_type": "execute_result"
    }
   ],
   "source": [
    "s[7:1:-1]"
   ]
  },
  {
   "cell_type": "code",
   "execution_count": 32,
   "id": "a6683d1f-0147-4e76-bede-c66042944428",
   "metadata": {},
   "outputs": [
    {
     "data": {
      "text/plain": [
       "'slliksw'"
      ]
     },
     "execution_count": 32,
     "metadata": {},
     "output_type": "execute_result"
    }
   ],
   "source": [
    "s[7:0:-1]"
   ]
  },
  {
   "cell_type": "code",
   "execution_count": 33,
   "id": "15c42362-9775-4dbb-a4c1-c3fdb68dc63f",
   "metadata": {},
   "outputs": [
    {
     "data": {
      "text/plain": [
       "'sllikswp'"
      ]
     },
     "execution_count": 33,
     "metadata": {},
     "output_type": "execute_result"
    }
   ],
   "source": [
    "s[7::-1]"
   ]
  },
  {
   "cell_type": "code",
   "execution_count": 34,
   "id": "e3ee827b-ab73-497e-80af-218ca0be2715",
   "metadata": {},
   "outputs": [
    {
     "data": {
      "text/plain": [
       "'sllikswp'"
      ]
     },
     "execution_count": 34,
     "metadata": {},
     "output_type": "execute_result"
    }
   ],
   "source": [
    "s[::-1]"
   ]
  },
  {
   "cell_type": "code",
   "execution_count": null,
   "id": "19086299-60c8-4bfc-bcd4-f10a0e5764ea",
   "metadata": {},
   "outputs": [],
   "source": []
  }
 ],
 "metadata": {
  "kernelspec": {
   "display_name": "Python 3 (ipykernel)",
   "language": "python",
   "name": "python3"
  },
  "language_info": {
   "codemirror_mode": {
    "name": "ipython",
    "version": 3
   },
   "file_extension": ".py",
   "mimetype": "text/x-python",
   "name": "python",
   "nbconvert_exporter": "python",
   "pygments_lexer": "ipython3",
   "version": "3.10.8"
  }
 },
 "nbformat": 4,
 "nbformat_minor": 5
}
